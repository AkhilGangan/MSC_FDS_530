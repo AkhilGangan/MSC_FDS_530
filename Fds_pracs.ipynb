{
  "nbformat": 4,
  "nbformat_minor": 0,
  "metadata": {
    "colab": {
      "name": "Fds pracs.ipynb",
      "provenance": [],
      "collapsed_sections": [],
      "authorship_tag": "ABX9TyNUW45nZIxUzmzF4vhwTI+D",
      "include_colab_link": true
    },
    "kernelspec": {
      "name": "python3",
      "display_name": "Python 3"
    },
    "language_info": {
      "name": "python"
    }
  },
  "cells": [
    {
      "cell_type": "markdown",
      "metadata": {
        "id": "view-in-github",
        "colab_type": "text"
      },
      "source": [
        "<a href=\"https://colab.research.google.com/github/AkhilGangan/MSC_FDS_530/blob/main/Fds_pracs.ipynb\" target=\"_parent\"><img src=\"https://colab.research.google.com/assets/colab-badge.svg\" alt=\"Open In Colab\"/></a>"
      ]
    },
    {
      "cell_type": "code",
      "execution_count": 19,
      "metadata": {
        "colab": {
          "base_uri": "https://localhost:8080/"
        },
        "id": "AVSXiw8peEzT",
        "outputId": "0d5a5b1e-169d-4000-ac3d-9ca4051472b9"
      },
      
      "outputs": [
        {
          "output_type": "stream",
          "name": "stdout",
          "text": [
            "<class 'numpy.ndarray'>\n",
            "(3,)\n",
            "1 2 3\n",
            "(2, 2)\n",
            "1 2 4\n",
            "2 3 5 6\n",
            "[[0. 0. 0.]\n",
            " [0. 0. 0.]]\n",
            "[[1. 1.]\n",
            " [1. 1.]\n",
            " [1. 1.]\n",
            " [1. 1.]]\n",
            "[[9 9]\n",
            " [9 9]]\n",
            "[[0.20970214 0.50424113 0.71631168]\n",
            " [0.38994075 0.83795774 0.90201358]\n",
            " [0.69587978 0.51585759 0.36384443]]\n",
            "[[ 1  2  3  4]\n",
            " [ 5  6  7  8]\n",
            " [ 9 10 11 12]]\n",
            "[[2 3]\n",
            " [6 7]]\n"
          ]
        }
      ],
      "source": [
        "import numpy as np\n",
        "import pandas as pd\n",
        "a=np.array([1,2,3])\n",
        "a\n",
        "print(type(a))\n",
        "print(a.shape)\n",
        "print(a[0],a[1],a[2])\n",
        "b=np.array([[1,2],[3,4]])\n",
        "b\n",
        "print (b.shape)\n",
        "print(b[0,0],b[0,1],b[1,1])\n",
        "c=np.array([[1,2],[3,4],[5,6]])\n",
        "c\n",
        "print(c[0,1],c[1,0],c[2,0],c[2,1])\n",
        "d=np.zeros((2,3))\n",
        "print(d)\n",
        "e2=np.ones((4,2))\n",
        "print(e2)\n",
        "f=np.full((2,2),9)\n",
        "print(f)\n",
        "g=np.random.random((3,3))\n",
        "print(g)\n",
        "h1=np.array([[1,2,3,4],[5,6,7,8],[9,10,11,12]])\n",
        "print(h1)\n",
        "i=h[:2,1:3]\n",
        "print(i)\n"
      ]
    }
  ]
}
