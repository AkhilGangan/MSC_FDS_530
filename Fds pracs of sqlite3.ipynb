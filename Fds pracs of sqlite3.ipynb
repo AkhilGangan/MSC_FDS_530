{
  "nbformat": 4,
  "nbformat_minor": 0,
  "metadata": {
    "colab": {
      "name": "Untitled2.ipynb",
      "provenance": [],
      "authorship_tag": "ABX9TyPQKS5s8bKkA7I63HcEOImz",
      "include_colab_link": true
    },
    "kernelspec": {
      "name": "python3",
      "display_name": "Python 3"
    },
    "language_info": {
      "name": "python"
    }
  },
  "cells": [
    {
      "cell_type": "markdown",
      "metadata": {
        "id": "view-in-github",
        "colab_type": "text"
      },
      "source": [
        "<a href=\"https://colab.research.google.com/github/AkhilGangan/MSC_FDS_530/blob/main/Fds%20pracs%20of%20sqlite3.ipynb\" target=\"_parent\"><img src=\"https://colab.research.google.com/assets/colab-badge.svg\" alt=\"Open In Colab\"/></a>"
      ]
    },
    {
      "cell_type": "code",
      "execution_count": 3,
      "metadata": {
        "id": "40AOUHfIxUIU",
        "colab": {
          "base_uri": "https://localhost:8080/"
        },
        "outputId": "951de826-c32b-4956-c709-3ddfcb539181"
      },
      "outputs": [
        {
          "output_type": "stream",
          "name": "stdout",
          "text": [
            "('AB', 'Amphispiza', 'bilineata', 'Bird')\n",
            "('AH', 'Ammospermophilus', 'harrisi', 'Rodent')\n",
            "('AS', 'Ammodramus', 'savannarum', 'Bird')\n",
            "('BA', 'Baiomys', 'taylori', 'Rodent')\n",
            "('CB', 'Campylorhynchus', 'brunneicapillus', 'Bird')\n",
            "('CM', 'Calamospiza', 'melanocorys', 'Bird')\n",
            "('CQ', 'Callipepla', 'squamata', 'Bird')\n",
            "('CS', 'Crotalus', 'scutalatus', 'Reptile')\n",
            "('CT', 'Cnemidophorus', 'tigris', 'Reptile')\n",
            "('CU', 'Cnemidophorus', 'uniparens', 'Reptile')\n",
            "('CV', 'Crotalus', 'viridis', 'Reptile')\n",
            "('DM', 'Dipodomys', 'merriami', 'Rodent')\n",
            "('DO', 'Dipodomys', 'ordii', 'Rodent')\n",
            "('DS', 'Dipodomys', 'spectabilis', 'Rodent')\n",
            "('DX', 'Dipodomys', 'sp.', 'Rodent')\n",
            "('EO', 'Eumeces', 'obsoletus', 'Reptile')\n",
            "('GS', 'Gambelia', 'silus', 'Reptile')\n",
            "('NL', 'Neotoma', 'albigula', 'Rodent')\n",
            "('NX', 'Neotoma', 'sp.', 'Rodent')\n",
            "('OL', 'Onychomys', 'leucogaster', 'Rodent')\n",
            "('OT', 'Onychomys', 'torridus', 'Rodent')\n",
            "('OX', 'Onychomys', 'sp.', 'Rodent')\n",
            "('PB', 'Chaetodipus', 'baileyi', 'Rodent')\n",
            "('PC', 'Pipilo', 'chlorurus', 'Bird')\n",
            "('PE', 'Peromyscus', 'eremicus', 'Rodent')\n",
            "('PF', 'Perognathus', 'flavus', 'Rodent')\n",
            "('PG', 'Pooecetes', 'gramineus', 'Bird')\n",
            "('PH', 'Perognathus', 'hispidus', 'Rodent')\n",
            "('PI', 'Chaetodipus', 'intermedius', 'Rodent')\n",
            "('PL', 'Peromyscus', 'leucopus', 'Rodent')\n",
            "('PM', 'Peromyscus', 'maniculatus', 'Rodent')\n",
            "('PP', 'Chaetodipus', 'penicillatus', 'Rodent')\n",
            "('PU', 'Pipilo', 'fuscus', 'Bird')\n",
            "('PX', 'Chaetodipus', 'sp.', 'Rodent')\n",
            "('RF', 'Reithrodontomys', 'fulvescens', 'Rodent')\n",
            "('RM', 'Reithrodontomys', 'megalotis', 'Rodent')\n",
            "('RO', 'Reithrodontomys', 'montanus', 'Rodent')\n",
            "('RX', 'Reithrodontomys', 'sp.', 'Rodent')\n",
            "('SA', 'Sylvilagus', 'audubonii', 'Rabbit')\n",
            "('SB', 'Spizella', 'breweri', 'Bird')\n",
            "('SC', 'Sceloporus', 'clarki', 'Reptile')\n",
            "('SF', 'Sigmodon', 'fulviventer', 'Rodent')\n",
            "('SH', 'Sigmodon', 'hispidus', 'Rodent')\n",
            "('SO', 'Sigmodon', 'ochrognathus', 'Rodent')\n",
            "('SS', 'Spermophilus', 'spilosoma', 'Rodent')\n",
            "('ST', 'Spermophilus', 'tereticaudus', 'Rodent')\n",
            "('SU', 'Sceloporus', 'undulatus', 'Reptile')\n",
            "('SX', 'Sigmodon', 'sp.', 'Rodent')\n",
            "('UL', 'Lizard', 'sp.', 'Reptile')\n",
            "('UP', 'Pipilo', 'sp.', 'Bird')\n",
            "('UR', 'Rodent', 'sp.', 'Rodent')\n",
            "('US', 'Sparrow', 'sp.', 'Bird')\n",
            "('ZL', 'Zonotrichia', 'leucophrys', 'Bird')\n",
            "('ZM', 'Zenaida', 'macroura', 'Bird')\n"
          ]
        }
      ],
      "source": [
        "import sqlite3\n",
        "con=sqlite3.connect(\"portal_mammals.sqlite\")\n",
        "cur=con.cursor()\n",
        "for row in cur.execute('SELECT* FROM species;'):\n",
        "  print(row)\n",
        "  "
      ]
    },
    {
      "cell_type": "code",
      "source": [
        "import sqlite3\n",
        "con=sqlite3.connect(\"portal_mammals.sqlite\")\n",
        "cur=con.cursor()\n",
        "cur.execute('SELECT plot_id FROM plots WHERE plot_type=\"Control\"')\n",
        "print(cur.fetchall())\n",
        "cur.execute('SELECT species FROM species WHERE taxa=\"Bird\"')\n",
        "print(cur.fetchone())\n",
        "con.close()\n"
      ],
      "metadata": {
        "colab": {
          "base_uri": "https://localhost:8080/"
        },
        "id": "XNkH_0QbIN3B",
        "outputId": "d5ef4b5e-9a3f-4f46-dbe7-a99195404835"
      },
      "execution_count": 4,
      "outputs": [
        {
          "output_type": "stream",
          "name": "stdout",
          "text": [
            "[(2,), (4,), (8,), (11,), (12,), (14,), (17,), (22,)]\n",
            "('bilineata',)\n"
          ]
        }
      ]
    },
    {
      "cell_type": "markdown",
      "source": [
        "# New Section"
      ],
      "metadata": {
        "id": "R5gTztGDEDRU"
      }
    }
  ]
}
